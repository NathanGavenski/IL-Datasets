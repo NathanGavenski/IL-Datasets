{
 "cells": [
  {
   "cell_type": "code",
   "execution_count": 1,
   "id": "e5fbb6c6-13d2-4fa2-a9d2-8b6a9c1552ad",
   "metadata": {},
   "outputs": [
    {
     "name": "stderr",
     "output_type": "stream",
     "text": [
      "/home/nathan/anaconda3/envs/il_datasets/lib/python3.10/site-packages/tqdm/auto.py:21: TqdmWarning: IProgress not found. Please update jupyter and ipywidgets. See https://ipywidgets.readthedocs.io/en/stable/user_install.html\n",
      "  from .autonotebook import tqdm as notebook_tqdm\n"
     ]
    }
   ],
   "source": [
    "from src.imitation_datasets.dataset.dataset import BaselineDataset\n",
    "import numpy as np"
   ]
  },
  {
   "cell_type": "code",
   "execution_count": 2,
   "id": "3a863e87-9f1f-448f-b207-eb0fe2b5b3d9",
   "metadata": {},
   "outputs": [
    {
     "name": "stderr",
     "output_type": "stream",
     "text": [
      "100%|█████████████████████████████████████████████████████████████▉| 1000/1001 [00:11<00:00, 89.36it/s]\n"
     ]
    }
   ],
   "source": [
    "dataset = np.load(\"./dataset/cartpole/teacher.npz\", allow_pickle=True)\n",
    "baseline_dataset = BaselineDataset(path=\"./dataset/cartpole/teacher.npz\")"
   ]
  },
  {
   "cell_type": "code",
   "execution_count": 3,
   "id": "07fb2732-c4de-414a-8e6d-93e2395abfbf",
   "metadata": {},
   "outputs": [
    {
     "data": {
      "text/plain": [
       "((499000, 4), (499000, 1), (499000, 4))"
      ]
     },
     "execution_count": 3,
     "metadata": {},
     "output_type": "execute_result"
    }
   ],
   "source": [
    "baseline_dataset.states.shape, baseline_dataset.actions.shape, baseline_dataset.next_states.shape"
   ]
  },
  {
   "cell_type": "code",
   "execution_count": 13,
   "id": "2a2f664a-0d96-4531-916c-67704cbbfc2d",
   "metadata": {},
   "outputs": [
    {
     "data": {
      "text/plain": [
       "(array([ 0.22209573, -0.02335659,  0.00153497,  0.03638533], dtype=float32),\n",
       " array([ 0.0396093 ,  0.03060269, -0.00885991, -0.01358826], dtype=float32),\n",
       " 0,\n",
       " 1.0)"
      ]
     },
     "execution_count": 13,
     "metadata": {},
     "output_type": "execute_result"
    }
   ],
   "source": [
    "idx = 500\n",
    "dataset[\"obs\"][idx], dataset[\"obs\"][idx+1], dataset[\"actions\"][idx], dataset[\"episode_starts\"][idx]"
   ]
  },
  {
   "cell_type": "code",
   "execution_count": 12,
   "id": "f758d44a-4891-4209-8652-7cc353a99270",
   "metadata": {},
   "outputs": [
    {
     "data": {
      "text/plain": [
       "(tensor([ 0.2221, -0.0234,  0.0015,  0.0364], dtype=torch.float64),\n",
       " tensor([0.], dtype=torch.float64),\n",
       " tensor([ 0.0396,  0.0306, -0.0089, -0.0136], dtype=torch.float64))"
      ]
     },
     "execution_count": 12,
     "metadata": {},
     "output_type": "execute_result"
    }
   ],
   "source": [
    "baseline_dataset[idx]"
   ]
  },
  {
   "cell_type": "code",
   "execution_count": 14,
   "id": "ac6b1680-490e-48c0-a82c-5a14b2d24bc1",
   "metadata": {},
   "outputs": [
    {
     "ename": "ValueError",
     "evalue": "operands could not be broadcast together with shapes (499000,) (498,) ",
     "output_type": "error",
     "traceback": [
      "\u001b[0;31m---------------------------------------------------------------------------\u001b[0m",
      "\u001b[0;31mValueError\u001b[0m                                Traceback (most recent call last)",
      "Cell \u001b[0;32mIn[14], line 1\u001b[0m\n\u001b[0;32m----> 1\u001b[0m (\u001b[43mdataset\u001b[49m\u001b[43m[\u001b[49m\u001b[38;5;124;43m\"\u001b[39;49m\u001b[38;5;124;43mactions\u001b[39;49m\u001b[38;5;124;43m\"\u001b[39;49m\u001b[43m]\u001b[49m\u001b[43m[\u001b[49m\u001b[38;5;241;43m1000\u001b[39;49m\u001b[43m:\u001b[49m\u001b[43m]\u001b[49m\u001b[43m \u001b[49m\u001b[38;5;241;43m==\u001b[39;49m\u001b[43m \u001b[49m\u001b[43mbaseline_dataset\u001b[49m\u001b[43m[\u001b[49m\u001b[38;5;241;43m999\u001b[39;49m\u001b[43m:\u001b[49m\u001b[38;5;241;43m1497\u001b[39;49m\u001b[43m]\u001b[49m\u001b[43m[\u001b[49m\u001b[38;5;241;43m1\u001b[39;49m\u001b[43m]\u001b[49m\u001b[38;5;241;43m.\u001b[39;49m\u001b[43mview\u001b[49m\u001b[43m(\u001b[49m\u001b[38;5;241;43m-\u001b[39;49m\u001b[38;5;241;43m1\u001b[39;49m\u001b[43m)\u001b[49m\u001b[38;5;241;43m.\u001b[39;49m\u001b[43mnumpy\u001b[49m\u001b[43m(\u001b[49m\u001b[43m)\u001b[49m)\u001b[38;5;241m.\u001b[39mall()\n",
      "\u001b[0;31mValueError\u001b[0m: operands could not be broadcast together with shapes (499000,) (498,) "
     ]
    }
   ],
   "source": [
    "(dataset[\"actions\"][1000:] == baseline_dataset[999:1497][1].view(-1).numpy()).all()"
   ]
  },
  {
   "cell_type": "code",
   "execution_count": 8,
   "id": "43b8ef7e-5b4d-4c14-9976-13b5a18ff07f",
   "metadata": {},
   "outputs": [],
   "source": [
    "starts = list(np.where(dataset[\"episode_starts\"] == 1)[0])\n",
    "starts.append(len(dataset[\"episode_starts\"]))"
   ]
  },
  {
   "cell_type": "code",
   "execution_count": 2,
   "id": "2766f528-6fc0-4e27-80b7-8a7b07c8b187",
   "metadata": {},
   "outputs": [
    {
     "name": "stderr",
     "output_type": "stream",
     "text": [
      "/home/nathan/anaconda3/envs/il_datasets/lib/python3.10/site-packages/tqdm/auto.py:21: TqdmWarning: IProgress not found. Please update jupyter and ipywidgets. See https://ipywidgets.readthedocs.io/en/stable/user_install.html\n",
      "  from .autonotebook import tqdm as notebook_tqdm\n"
     ]
    }
   ],
   "source": [
    "from src.benchmark.methods.bc import BC\n",
    "import gym\n",
    "import torch \n",
    "\n",
    "env = gym.make(\"CartPole-v1\")"
   ]
  },
  {
   "cell_type": "code",
   "execution_count": 3,
   "id": "237f1d57-05ca-4421-a0b0-ce44229c9cf7",
   "metadata": {},
   "outputs": [],
   "source": [
    "bc = BC(env)"
   ]
  },
  {
   "cell_type": "code",
   "execution_count": 4,
   "id": "3e2d0d79-2be1-4d24-9b91-1ddf6a745be6",
   "metadata": {},
   "outputs": [
    {
     "data": {
      "text/plain": [
       "MLP(\n",
       "  (layers): Sequential(\n",
       "    (0): Linear(in_features=4, out_features=64, bias=True)\n",
       "    (1): LeakyReLU(negative_slope=0.01)\n",
       "    (2): Linear(in_features=64, out_features=64, bias=True)\n",
       "    (3): LeakyReLU(negative_slope=0.01)\n",
       "    (4): Linear(in_features=64, out_features=64, bias=True)\n",
       "    (5): LeakyReLU(negative_slope=0.01)\n",
       "    (6): Linear(in_features=64, out_features=2, bias=True)\n",
       "  )\n",
       ")"
      ]
     },
     "execution_count": 4,
     "metadata": {},
     "output_type": "execute_result"
    }
   ],
   "source": [
    "bc.load()\n",
    "bc.policy.eval()"
   ]
  },
  {
   "cell_type": "code",
   "execution_count": 39,
   "id": "68ceabaa-ae55-4b54-9775-41cd279aeef1",
   "metadata": {},
   "outputs": [
    {
     "data": {
      "text/plain": [
       "129.0"
      ]
     },
     "execution_count": 39,
     "metadata": {},
     "output_type": "execute_result"
    }
   ],
   "source": [
    "obs, done = env.reset(), False\n",
    "total_reward = 0\n",
    "\n",
    "while not done:\n",
    "    action = 1 - bc.predict(obs)\n",
    "    env.render()\n",
    "    obs, reward, done, info = env.step(action)\n",
    "    total_reward += reward\n",
    "total_reward"
   ]
  },
  {
   "cell_type": "code",
   "execution_count": 10,
   "id": "42b60877-19b6-4dc1-b3c2-4e68d4ce912f",
   "metadata": {},
   "outputs": [
    {
     "data": {
      "text/plain": [
       "0"
      ]
     },
     "execution_count": 10,
     "metadata": {},
     "output_type": "execute_result"
    }
   ],
   "source": [
    "1 - bc.predict(obs)"
   ]
  },
  {
   "cell_type": "code",
   "execution_count": 7,
   "id": "5799caae-4631-4d5e-8f9c-d7cfbd76cd5c",
   "metadata": {},
   "outputs": [
    {
     "data": {
      "text/plain": [
       "array(0)"
      ]
     },
     "execution_count": 7,
     "metadata": {},
     "output_type": "execute_result"
    }
   ],
   "source": [
    "bc.predict(obs)"
   ]
  },
  {
   "cell_type": "code",
   "execution_count": 11,
   "id": "52b982e8-3d28-4b78-b014-c58de00d855d",
   "metadata": {},
   "outputs": [
    {
     "data": {
      "text/plain": [
       "1"
      ]
     },
     "execution_count": 11,
     "metadata": {},
     "output_type": "execute_result"
    }
   ],
   "source": [
    "torch.argmax(bc.policy(torch.from_numpy(obs)[None])).item()"
   ]
  },
  {
   "cell_type": "code",
   "execution_count": 2,
   "id": "3b8f4ca5-00a0-473d-9c5f-0a36549b56f2",
   "metadata": {},
   "outputs": [
    {
     "name": "stderr",
     "output_type": "stream",
     "text": [
      "/home/nathan/anaconda3/envs/il_datasets/lib/python3.10/site-packages/stable_baselines3/common/vec_env/patch_gym.py:95: UserWarning: You loaded a model that was trained using OpenAI Gym. We strongly recommend transitioning to Gymnasium by saving that model again.\n",
      "  warnings.warn(\n"
     ]
    },
    {
     "data": {
      "text/plain": [
       "<stable_baselines3.ppo.ppo.PPO at 0x7f24b086c940>"
      ]
     },
     "execution_count": 2,
     "metadata": {},
     "output_type": "execute_result"
    }
   ],
   "source": [
    "from src.imitation_datasets.experts import Experts\n",
    "expert = Experts().get_expert(\"cartpole\")\n",
    "expert.load()"
   ]
  },
  {
   "cell_type": "code",
   "execution_count": 18,
   "id": "897f0c11-4c7d-4d0c-82d5-8af49c14f770",
   "metadata": {
    "scrolled": true
   },
   "outputs": [],
   "source": [
    "starts = list(np.where(dataset[\"episode_starts\"] == 1)[0])\n",
    "starts.append(len(dataset[\"episode_starts\"]))"
   ]
  },
  {
   "cell_type": "code",
   "execution_count": 21,
   "id": "93f9c49d-a199-48e7-8822-b777f7551a2d",
   "metadata": {},
   "outputs": [
    {
     "data": {
      "text/plain": [
       "363"
      ]
     },
     "execution_count": 21,
     "metadata": {},
     "output_type": "execute_result"
    }
   ],
   "source": [
    "count = 0\n",
    "for start, end in zip([starts[2]], [starts[3]]):\n",
    "    for idx in range(start, end):\n",
    "        expert_action, _ = expert.predict(dataset[\"obs\"][idx])\n",
    "        action = dataset[\"actions\"][idx]\n",
    "        if expert_action != action:\n",
    "            count += 1\n",
    "count"
   ]
  },
  {
   "cell_type": "code",
   "execution_count": 1,
   "id": "3dfa6d80-933d-4960-b2d0-341ee08f6c3e",
   "metadata": {},
   "outputs": [
    {
     "name": "stderr",
     "output_type": "stream",
     "text": [
      "/home/nathan/anaconda3/envs/il_datasets/lib/python3.10/site-packages/tqdm/auto.py:21: TqdmWarning: IProgress not found. Please update jupyter and ipywidgets. See https://ipywidgets.readthedocs.io/en/stable/user_install.html\n",
      "  from .autonotebook import tqdm as notebook_tqdm\n"
     ]
    }
   ],
   "source": [
    "import gymnasium as gym\n",
    "from src.imitation_datasets.utils import GymWrapper\n",
    "\n",
    "env = GymWrapper(gym.make(\"CartPole-v1\"))"
   ]
  },
  {
   "cell_type": "code",
   "execution_count": null,
   "id": "05bcb402-2d66-4806-831d-533d6eb53e10",
   "metadata": {},
   "outputs": [],
   "source": [
    "average_reward = []\n",
    "for _ in range(10):\n",
    "    done = False\n",
    "    obs = env.reset()\n",
    "    accumulated_reward = 0\n",
    "    while not done:\n",
    "        action, _ = expert.predict(obs)\n",
    "        obs, reward, done, *_ = env.step(action)\n",
    "        accumulated_reward += reward\n",
    "    average_reward.append(accumulated_reward)\n",
    "np.mean(average_reward)"
   ]
  },
  {
   "cell_type": "code",
   "execution_count": 1,
   "id": "dd101433-6795-466c-b4ee-c0f81e4448d8",
   "metadata": {},
   "outputs": [],
   "source": [
    "def proc_time(b_sz, model, n_iter=10):\n",
    "    x = torch.rand(b_sz, 3, 224, 224).cuda()\n",
    "    torch.cuda.synchronize()\n",
    "    start = time.time()\n",
    "    for _ in range(n_iter):\n",
    "        model(x)\n",
    "    torch.cuda.synchronize()\n",
    "    end = time.time() - start\n",
    "    throughput = b_sz * n_iter / end\n",
    "    print(f\"Batch: {b_sz} \\t {throughput} samples/sec\")\n",
    "    return (b_sz, throughput, )"
   ]
  },
  {
   "cell_type": "code",
   "execution_count": 4,
   "id": "8a537975-8b33-47cf-8459-309b662fbaae",
   "metadata": {},
   "outputs": [
    {
     "ename": "RuntimeError",
     "evalue": "No HIP GPUs are available",
     "output_type": "error",
     "traceback": [
      "\u001b[0;31m---------------------------------------------------------------------------\u001b[0m",
      "\u001b[0;31mRuntimeError\u001b[0m                              Traceback (most recent call last)",
      "Cell \u001b[0;32mIn[4], line 1\u001b[0m\n\u001b[0;32m----> 1\u001b[0m \u001b[43mproc_time\u001b[49m\u001b[43m(\u001b[49m\u001b[38;5;241;43m1\u001b[39;49m\u001b[43m,\u001b[49m\u001b[43m \u001b[49m\u001b[43mbc\u001b[49m\u001b[38;5;241;43m.\u001b[39;49m\u001b[43mpolicy\u001b[49m\u001b[43m)\u001b[49m\n",
      "Cell \u001b[0;32mIn[1], line 2\u001b[0m, in \u001b[0;36mproc_time\u001b[0;34m(b_sz, model, n_iter)\u001b[0m\n\u001b[1;32m      1\u001b[0m \u001b[38;5;28;01mdef\u001b[39;00m \u001b[38;5;21mproc_time\u001b[39m(b_sz, model, n_iter\u001b[38;5;241m=\u001b[39m\u001b[38;5;241m10\u001b[39m):\n\u001b[0;32m----> 2\u001b[0m     x \u001b[38;5;241m=\u001b[39m \u001b[43mtorch\u001b[49m\u001b[38;5;241;43m.\u001b[39;49m\u001b[43mrand\u001b[49m\u001b[43m(\u001b[49m\u001b[43mb_sz\u001b[49m\u001b[43m,\u001b[49m\u001b[43m \u001b[49m\u001b[38;5;241;43m3\u001b[39;49m\u001b[43m,\u001b[49m\u001b[43m \u001b[49m\u001b[38;5;241;43m224\u001b[39;49m\u001b[43m,\u001b[49m\u001b[43m \u001b[49m\u001b[38;5;241;43m224\u001b[39;49m\u001b[43m)\u001b[49m\u001b[38;5;241;43m.\u001b[39;49m\u001b[43mcuda\u001b[49m\u001b[43m(\u001b[49m\u001b[43m)\u001b[49m\n\u001b[1;32m      3\u001b[0m     torch\u001b[38;5;241m.\u001b[39mcuda\u001b[38;5;241m.\u001b[39msynchronize()\n\u001b[1;32m      4\u001b[0m     start \u001b[38;5;241m=\u001b[39m time\u001b[38;5;241m.\u001b[39mtime()\n",
      "File \u001b[0;32m~/anaconda3/envs/il_datasets/lib/python3.10/site-packages/torch/cuda/__init__.py:298\u001b[0m, in \u001b[0;36m_lazy_init\u001b[0;34m()\u001b[0m\n\u001b[1;32m    296\u001b[0m \u001b[38;5;28;01mif\u001b[39;00m \u001b[38;5;124m\"\u001b[39m\u001b[38;5;124mCUDA_MODULE_LOADING\u001b[39m\u001b[38;5;124m\"\u001b[39m \u001b[38;5;129;01mnot\u001b[39;00m \u001b[38;5;129;01min\u001b[39;00m os\u001b[38;5;241m.\u001b[39menviron:\n\u001b[1;32m    297\u001b[0m     os\u001b[38;5;241m.\u001b[39menviron[\u001b[38;5;124m\"\u001b[39m\u001b[38;5;124mCUDA_MODULE_LOADING\u001b[39m\u001b[38;5;124m\"\u001b[39m] \u001b[38;5;241m=\u001b[39m \u001b[38;5;124m\"\u001b[39m\u001b[38;5;124mLAZY\u001b[39m\u001b[38;5;124m\"\u001b[39m\n\u001b[0;32m--> 298\u001b[0m \u001b[43mtorch\u001b[49m\u001b[38;5;241;43m.\u001b[39;49m\u001b[43m_C\u001b[49m\u001b[38;5;241;43m.\u001b[39;49m\u001b[43m_cuda_init\u001b[49m\u001b[43m(\u001b[49m\u001b[43m)\u001b[49m\n\u001b[1;32m    299\u001b[0m \u001b[38;5;66;03m# Some of the queued calls may reentrantly call _lazy_init();\u001b[39;00m\n\u001b[1;32m    300\u001b[0m \u001b[38;5;66;03m# we need to just return without initializing in that case.\u001b[39;00m\n\u001b[1;32m    301\u001b[0m \u001b[38;5;66;03m# However, we must not let any *other* threads in!\u001b[39;00m\n\u001b[1;32m    302\u001b[0m _tls\u001b[38;5;241m.\u001b[39mis_initializing \u001b[38;5;241m=\u001b[39m \u001b[38;5;28;01mTrue\u001b[39;00m\n",
      "\u001b[0;31mRuntimeError\u001b[0m: No HIP GPUs are available"
     ]
    }
   ],
   "source": [
    "proc_time(1, bc.policy)"
   ]
  }
 ],
 "metadata": {
  "kernelspec": {
   "display_name": "Python 3 (ipykernel)",
   "language": "python",
   "name": "python3"
  },
  "language_info": {
   "codemirror_mode": {
    "name": "ipython",
    "version": 3
   },
   "file_extension": ".py",
   "mimetype": "text/x-python",
   "name": "python",
   "nbconvert_exporter": "python",
   "pygments_lexer": "ipython3",
   "version": "3.10.12"
  }
 },
 "nbformat": 4,
 "nbformat_minor": 5
}
