{
 "cells": [
  {
   "cell_type": "markdown",
   "id": "104b693b-61f1-499a-b392-ea4431187c56",
   "metadata": {},
   "source": [
    "# Benchmark\n",
    "\n",
    "## Available Methods\n",
    "\n",
    "A complete list of the methods can be found at: https://nathangavenski.github.io/IL-Datasets/"
   ]
  },
  {
   "cell_type": "code",
   "execution_count": 1,
   "id": "a98db5d9-c806-4515-9447-144440ed34c3",
   "metadata": {},
   "outputs": [
    {
     "data": {
      "text/plain": [
       "[benchmark.methods.bc.BC,\n",
       " benchmark.methods.bco.BCO,\n",
       " benchmark.methods.abco.ABCO,\n",
       " benchmark.methods.iupe.IUPE]"
      ]
     },
     "execution_count": 1,
     "metadata": {},
     "output_type": "execute_result"
    }
   ],
   "source": [
    "from benchmark.registers import get_methods\n",
    "\n",
    "get_methods([\"all\"])"
   ]
  },
  {
   "cell_type": "markdown",
   "id": "60ed7c00-674b-4353-b9ab-ba2ff27992c3",
   "metadata": {},
   "source": [
    "## Running a single benchmark method for an environment"
   ]
  },
  {
   "cell_type": "code",
   "execution_count": 2,
   "id": "39268463-a4bd-4356-8b56-30d669e1d16c",
   "metadata": {},
   "outputs": [],
   "source": [
    "from benchmark.methods import BC\n",
    "from benchmark.registers import benchmark_environments\n",
    "import gymnasium as gym\n",
    "from imitation_datasets.dataset import BaselineDataset\n",
    "from torch.utils.data import DataLoader"
   ]
  },
  {
   "cell_type": "code",
   "execution_count": 3,
   "id": "75aae34c-f900-46a2-a3a3-a5622a93c1a4",
   "metadata": {},
   "outputs": [
    {
     "name": "stderr",
     "output_type": "stream",
     "text": [
      "Creating dataset: 100%|████████████████████████████████████████████| 700/700 [00:03<00:00, 204.31it/s]\n",
      "Creating dataset: 100%|███████████████████████████████████████████| 300/300 [00:00<00:00, 1319.04it/s]\n",
      "Behavioural Cloning: 100%|██████████████████████████████████████████████| 1/1 [00:21<00:00, 21.04s/it]\n"
     ]
    },
    {
     "name": "stdout",
     "output_type": "stream",
     "text": [
      "\n",
      "Performance: 0.9787 ± 0.047\n",
      "Average Episodic Reward: 247.7645 ± 20.3482\n"
     ]
    }
   ],
   "source": [
    "dataset_train = BaselineDataset(\"NathanGavenski/LunarLander-v2\", source=\"hf\", n_episodes=700)\n",
    "dataset_eval = BaselineDataset(\"NathanGavenski/LunarLander-v2\", source=\"hf\", n_episodes=700, split=\"eval\")\n",
    "dataloader_train = DataLoader(dataset_train, batch_size=32, shuffle=True)\n",
    "dataloader_eval = DataLoader(dataset_eval, batch_size=32, shuffle=True)\n",
    "\n",
    "teacher_reward = dataset_train.average_reward\n",
    "random_reward = benchmark_environments[0][\"LunarLander-v2\"][\"random_reward\"]\n",
    "\n",
    "bc = BC(gym.make(\"LunarLander-v2\"), enjoy_criteria=100, verbose=True)\n",
    "bc = bc.train(\n",
    "    n_epochs=1,\n",
    "    train_dataset=dataloader_train,\n",
    "    eval_dataset=dataloader_eval\n",
    ").load()\n",
    "\n",
    "metrics = bc._enjoy(teacher_reward=teacher_reward, random_reward=random_reward)\n",
    "\n",
    "print()\n",
    "print(f\"Performance: {round(metrics['performance'], 4)} ± {round(metrics['performance_std'], 4)}\")\n",
    "print(f\"Average Episodic Reward: {round(metrics['aer'], 4)} ± {round(metrics['aer_std'], 4)}\")"
   ]
  },
  {
   "cell_type": "markdown",
   "id": "bc531c9b-5558-4b6c-bb64-2bfa200d81f5",
   "metadata": {},
   "source": [
    "## Running benchmark for all environments in many methods"
   ]
  },
  {
   "cell_type": "code",
   "execution_count": null,
   "id": "95c4631c-7fb1-4b27-8762-5026890d3465",
   "metadata": {},
   "outputs": [],
   "source": [
    "from benchmark.benchmark import benchmark\n",
    "from benchmark.registers import get_methods\n",
    "\n",
    "benchmark(get_methods([\"BC\", \"BCO\"]))"
   ]
  },
  {
   "cell_type": "code",
   "execution_count": null,
   "id": "ca763f1c-2b2f-451b-9f26-c5d2dac743ad",
   "metadata": {},
   "outputs": [],
   "source": []
  }
 ],
 "metadata": {
  "kernelspec": {
   "display_name": "Python 3 (ipykernel)",
   "language": "python",
   "name": "python3"
  },
  "language_info": {
   "codemirror_mode": {
    "name": "ipython",
    "version": 3
   },
   "file_extension": ".py",
   "mimetype": "text/x-python",
   "name": "python",
   "nbconvert_exporter": "python",
   "pygments_lexer": "ipython3",
   "version": "3.10.12"
  }
 },
 "nbformat": 4,
 "nbformat_minor": 5
}
