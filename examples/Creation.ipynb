{
 "cells": [
  {
   "cell_type": "markdown",
   "id": "56462b76-0e85-487d-a7ed-7dfc6479bb19",
   "metadata": {},
   "source": [
    "# Dataset Creation\n",
    "\n",
    "## Looking for available environments/experts\n",
    "\n",
    "Here we can see all available environments/experts from IL-Datasets. We can also search for a\n",
    "specific key if we want to check whether IL-Datasets has an environment."
   ]
  },
  {
   "cell_type": "code",
   "execution_count": 1,
   "id": "56368f6e-be7c-4f9d-ad7f-73ea20b4ae2e",
   "metadata": {},
   "outputs": [],
   "source": [
    "import pprint\n",
    "from imitation_datasets import Controller, Experts, Policy\n",
    "from imitation_datasets.functions import baseline_collate, baseline_enjoy\n",
    "\n",
    "import warnings\n",
    "warnings.filterwarnings(\"ignore\")\n",
    "\n",
    "# We need to import nest_asyncio to run on jupyter notebooks\n",
    "# since the Controller class instantiates its own asyncio process.\n",
    "import nest_asyncio\n",
    "nest_asyncio.apply()"
   ]
  },
  {
   "cell_type": "code",
   "execution_count": 2,
   "id": "592074f0-d2bd-4d6e-8bfd-94de7026fd4c",
   "metadata": {},
   "outputs": [
    {
     "name": "stdout",
     "output_type": "stream",
     "text": [
      "{   'acrobot': Policy(name='Acrobot-v1',\n",
      "                      repo_id='sb3/dqn-Acrobot-v1',\n",
      "                      filename='dqn-Acrobot-v1.zip',\n",
      "                      threshold=-75.0,\n",
      "                      algo=<class 'stable_baselines3.dqn.dqn.DQN'>,\n",
      "                      policy=None,\n",
      "                      internal_state=None,\n",
      "                      environment=None),\n",
      "    'ant': Policy(name='Ant-v3',\n",
      "                  repo_id='sb3/td3-Ant-v3',\n",
      "                  filename='td3-Ant-v3.zip',\n",
      "                  threshold=5822.0,\n",
      "                  algo=<class 'stable_baselines3.td3.td3.TD3'>,\n",
      "                  policy=None,\n",
      "                  internal_state=None,\n",
      "                  environment=None),\n",
      "    'ant-1': Policy(name='Ant-v3',\n",
      "                    repo_id='sb3/sac-Ant-v3',\n",
      "                    filename='sac-Ant-v3.zip',\n",
      "                    threshold=5181,\n",
      "                    algo=<class 'stable_baselines3.sac.sac.SAC'>,\n",
      "                    policy=None,\n",
      "                    internal_state=None,\n",
      "                    environment=None),\n",
      "    'cartpole': Policy(name='CartPole-v1',\n",
      "                       repo_id='sb3/ppo-CartPole-v1',\n",
      "                       filename='ppo-CartPole-v1.zip',\n",
      "                       threshold=500.0,\n",
      "                       algo=<class 'stable_baselines3.ppo.ppo.PPO'>,\n",
      "                       policy=None,\n",
      "                       internal_state=None,\n",
      "                       environment=None),\n",
      "    'cheetah': Policy(name='HalfCheetah-v3',\n",
      "                      repo_id='sb3/td3-HalfCheetah-v3',\n",
      "                      filename='td3-HalfCheetah-v3.zip',\n",
      "                      threshold=9709.0,\n",
      "                      algo=<class 'stable_baselines3.td3.td3.TD3'>,\n",
      "                      policy=None,\n",
      "                      internal_state=None,\n",
      "                      environment=None),\n",
      "    'hopper': Policy(name='Hopper-v3',\n",
      "                     repo_id='sb3/td3-Hopper-v3',\n",
      "                     filename='td3-Hopper-v3.zip',\n",
      "                     threshold=3604.0,\n",
      "                     algo=<class 'stable_baselines3.td3.td3.TD3'>,\n",
      "                     policy=None,\n",
      "                     internal_state=None,\n",
      "                     environment=None),\n",
      "    'humanoid': Policy(name='Humanoid-v3',\n",
      "                       repo_id='sb3/sac-Humanoid-v3',\n",
      "                       filename='sac-Humanoid-v3.zip',\n",
      "                       threshold=6251.0,\n",
      "                       algo=<class 'stable_baselines3.sac.sac.SAC'>,\n",
      "                       policy=None,\n",
      "                       internal_state=None,\n",
      "                       environment=None),\n",
      "    'lunarlander': Policy(name='LunarLander-v2',\n",
      "                          repo_id='sb3/ppo-LunarLander-v2',\n",
      "                          filename='ppo-LunarLander-v2.zip',\n",
      "                          threshold=233,\n",
      "                          algo=<class 'stable_baselines3.ppo.ppo.PPO'>,\n",
      "                          policy=None,\n",
      "                          internal_state=None,\n",
      "                          environment=None),\n",
      "    'mountaincar': Policy(name='MountainCar-v0',\n",
      "                          repo_id='sb3/dqn-MountainCar-v0',\n",
      "                          filename='dqn-MountainCar-v0.zip',\n",
      "                          threshold=-110.0,\n",
      "                          algo=<class 'stable_baselines3.dqn.dqn.DQN'>,\n",
      "                          policy=None,\n",
      "                          internal_state=None,\n",
      "                          environment=None),\n",
      "    'swimmer': Policy(name='Swimmer-v3',\n",
      "                      repo_id='sb3/td3-Swimmer-v3',\n",
      "                      filename='td3-Swimmer-v3.zip',\n",
      "                      threshold=359.0,\n",
      "                      algo=<class 'stable_baselines3.td3.td3.TD3'>,\n",
      "                      policy=None,\n",
      "                      internal_state=None,\n",
      "                      environment=None),\n",
      "    'walker': Policy(name='Walker2d-v3',\n",
      "                     repo_id='sb3/td3-Walker2d-v3',\n",
      "                     filename='td3-Walker2d-v3.zip',\n",
      "                     threshold=4703.0,\n",
      "                     algo=<class 'stable_baselines3.td3.td3.TD3'>,\n",
      "                     policy=None,\n",
      "                     internal_state=None,\n",
      "                     environment=None)}\n"
     ]
    }
   ],
   "source": [
    "pp = pprint.PrettyPrinter(indent=4)\n",
    "pp.pprint(Experts.get_register())"
   ]
  },
  {
   "cell_type": "code",
   "execution_count": 3,
   "id": "71e5c8c3-5c9f-49b0-a6c5-1fcf6051c7bb",
   "metadata": {},
   "outputs": [],
   "source": [
    "Experts.get_expert(\"pendulum\")"
   ]
  },
  {
   "cell_type": "markdown",
   "id": "58baf6aa-91d7-422b-8687-da6fe95ea10e",
   "metadata": {},
   "source": [
    "## Register new expert weights and create new dataset\n",
    "\n",
    "Since theren’t any available expert weights for the Pendulum-v1 environment, we will register a\n",
    "new expert, and use it to create a new dataset with only 100 episodes.\n",
    "\n",
    "We are using: https://huggingface.co/HumanCompatibleAI/ppo-Pendulum-v1"
   ]
  },
  {
   "cell_type": "code",
   "execution_count": 4,
   "id": "74f3bf56-acf2-4eba-9d4a-1046ccdf0bea",
   "metadata": {},
   "outputs": [
    {
     "data": {
      "text/plain": [
       "Policy(name='Pendulum-v1', repo_id='HumanCompatibleAI/ppo-Pendulum-v1', filename='ppo-Pendulum-v1.zip', threshold=-189.0, algo=<class 'stable_baselines3.ppo.ppo.PPO'>, policy=None, internal_state=None, environment=None)"
      ]
     },
     "execution_count": 4,
     "metadata": {},
     "output_type": "execute_result"
    }
   ],
   "source": [
    "from stable_baselines3 import PPO\n",
    "Experts.register(\n",
    "    \"pendulum\",\n",
    "    Policy(\n",
    "        name=\"Pendulum-v1\",\n",
    "        repo_id=\"HumanCompatibleAI/ppo-Pendulum-v1\",\n",
    "        filename=\"ppo-Pendulum-v1.zip\",\n",
    "        threshold=-189,\n",
    "        algo=PPO,\n",
    "    )\n",
    ")\n",
    "Experts.get_expert(\"pendulum\")"
   ]
  },
  {
   "cell_type": "code",
   "execution_count": 5,
   "id": "a1f65bf6-fb38-4f01-98fb-fd1bd5987a7d",
   "metadata": {
    "scrolled": true
   },
   "outputs": [
    {
     "name": "stderr",
     "output_type": "stream",
     "text": [
      "Running episodes: 100%|█████████████████████████████████████████████| 100/100 [00:14<00:00,  4.91it/s]\n",
      "Running episodes: 100%|█████████████████████████████████████████████| 100/100 [00:16<00:00,  6.17it/s]\n"
     ]
    }
   ],
   "source": [
    "from imitation_datasets.dataset.random_dataset import create_arguments\n",
    "args = create_arguments({\n",
    "    \"--game\": \"pendulum\",\n",
    "    \"--episodes\": \"100\",\n",
    "    \"--threads\": \"4\",\n",
    "    \"--mode\": \"all\"\n",
    "})\n",
    "\n",
    "controller = Controller(\n",
    "    baseline_enjoy,\n",
    "    baseline_collate,\n",
    "    args.episodes,\n",
    "    args.threads,\n",
    ")\n",
    "controller.start(args)"
   ]
  },
  {
   "cell_type": "code",
   "execution_count": 6,
   "id": "3510c4a4-b56d-4a59-aef9-ed0979adec89",
   "metadata": {},
   "outputs": [
    {
     "data": {
      "text/plain": [
       "((20000, 3), (20000,), -100.08150779832427)"
      ]
     },
     "execution_count": 6,
     "metadata": {},
     "output_type": "execute_result"
    }
   ],
   "source": [
    "import numpy as np\n",
    "\n",
    "dataset = np.load(\"./dataset/pendulum/teacher.npz\", allow_pickle=True)\n",
    "dataset[\"obs\"].shape, dataset[\"actions\"].shape, dataset[\"episode_returns\"].mean()"
   ]
  },
  {
   "cell_type": "markdown",
   "id": "6e8dbd61-3ce6-4400-a2f6-4b2d2fb27dd9",
   "metadata": {},
   "source": [
    "# Create file for HuggingFace\n",
    "\n",
    "If the user wants to send the data to HuggingFace afterwards, IL-Datasets provide a ‘baseline_to_huggingface’ function, \n",
    "which transforms the ‘teacher.npz’ file into a ‘teacher.jsonl’ file that can be uploaded directly to HuggingFace."
   ]
  },
  {
   "cell_type": "code",
   "execution_count": 7,
   "id": "a758885e-7cdd-461e-abcc-9b72e6f9499e",
   "metadata": {},
   "outputs": [
    {
     "name": "stderr",
     "output_type": "stream",
     "text": [
      "Writing into file: 100%|████████████████████████████████████| 20000/20000 [00:00<00:00, 142621.92it/s]\n"
     ]
    }
   ],
   "source": [
    "from imitation_datasets.dataset.huggingface import baseline_to_huggingface\n",
    "baseline_to_huggingface(\"./dataset/pendulum/teacher.npz\", \"./dataset/pendulum/teacher.jsonl\")"
   ]
  },
  {
   "cell_type": "code",
   "execution_count": 8,
   "id": "8e400f8d-b3a5-49d6-9eed-c34e94ab1132",
   "metadata": {},
   "outputs": [],
   "source": [
    "!xdg-open ./dataset/pendulum/teacher.jsonl"
   ]
  }
 ],
 "metadata": {
  "kernelspec": {
   "display_name": "Python 3 (ipykernel)",
   "language": "python",
   "name": "python3"
  },
  "language_info": {
   "codemirror_mode": {
    "name": "ipython",
    "version": 3
   },
   "file_extension": ".py",
   "mimetype": "text/x-python",
   "name": "python",
   "nbconvert_exporter": "python",
   "pygments_lexer": "ipython3",
   "version": "3.10.12"
  }
 },
 "nbformat": 4,
 "nbformat_minor": 5
}
